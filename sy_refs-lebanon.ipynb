{
 "cells": [
  {
   "cell_type": "code",
   "execution_count": 1,
   "metadata": {},
   "outputs": [],
   "source": [
    "import matplotlib.pyplot as plt\n",
    "import pandas as pd\n",
    "import numpy as np\n",
    "\n",
    "from numpy import nan"
   ]
  },
  {
   "cell_type": "code",
   "execution_count": 2,
   "metadata": {},
   "outputs": [],
   "source": [
    "lebanon = pd.read_csv('data/clean_data/population-lebanon.csv')\n",
    "\n",
    "#source = http://www.worldometers.info/world-population/lebanon-population/"
   ]
  },
  {
   "cell_type": "code",
   "execution_count": 5,
   "metadata": {},
   "outputs": [
    {
     "name": "stderr",
     "output_type": "stream",
     "text": [
      "C:\\Users\\corbi\\Anaconda3\\lib\\site-packages\\ipykernel_launcher.py:5: SettingWithCopyWarning: \n",
      "A value is trying to be set on a copy of a slice from a DataFrame\n",
      "\n",
      "See the caveats in the documentation: http://pandas.pydata.org/pandas-docs/stable/indexing.html#indexing-view-versus-copy\n",
      "  \"\"\"\n"
     ]
    }
   ],
   "source": [
    "refugees_lebanon = pd.read_csv('data/clean_data/syr-reg_ref_by_date-lebanon.csv')\n",
    "\n",
    "#source = https://data2.unhcr.org/en/situations/syria/location/71\n",
    "\n",
    "refugees_lebanon['first of year'][1] = refugees_lebanon['individuals'][1]"
   ]
  },
  {
   "cell_type": "code",
   "execution_count": 8,
   "metadata": {},
   "outputs": [],
   "source": [
    "refugees_lebanon = refugees_lebanon.dropna()"
   ]
  },
  {
   "cell_type": "code",
   "execution_count": 9,
   "metadata": {},
   "outputs": [],
   "source": [
    "lebanon = lebanon.dropna()\n"
   ]
  },
  {
   "cell_type": "code",
   "execution_count": 10,
   "metadata": {},
   "outputs": [],
   "source": [
    "refugees_lebanon =refugees_lebanon.reset_index()"
   ]
  },
  {
   "cell_type": "code",
   "execution_count": 11,
   "metadata": {},
   "outputs": [],
   "source": [
    "refugees_lebanon['Date'] = 0"
   ]
  },
  {
   "cell_type": "code",
   "execution_count": 12,
   "metadata": {},
   "outputs": [
    {
     "name": "stderr",
     "output_type": "stream",
     "text": [
      "C:\\Users\\corbi\\Anaconda3\\lib\\site-packages\\ipykernel_launcher.py:3: SettingWithCopyWarning: \n",
      "A value is trying to be set on a copy of a slice from a DataFrame\n",
      "\n",
      "See the caveats in the documentation: http://pandas.pydata.org/pandas-docs/stable/indexing.html#indexing-view-versus-copy\n",
      "  This is separate from the ipykernel package so we can avoid doing imports until\n"
     ]
    }
   ],
   "source": [
    "for i in range(len(refugees_lebanon)):\n",
    "\n",
    "    refugees_lebanon['Date'][i] = float(refugees_lebanon['data_date'][i][-4:])"
   ]
  },
  {
   "cell_type": "code",
   "execution_count": 13,
   "metadata": {},
   "outputs": [],
   "source": [
    "refugees_lebanon = refugees_lebanon.rename(columns={'Date': 'Year'})"
   ]
  },
  {
   "cell_type": "code",
   "execution_count": 14,
   "metadata": {},
   "outputs": [],
   "source": [
    "lebanon = lebanon.reset_index()"
   ]
  },
  {
   "cell_type": "code",
   "execution_count": 15,
   "metadata": {},
   "outputs": [
    {
     "data": {
      "text/plain": [
       "numpy.float64"
      ]
     },
     "execution_count": 15,
     "metadata": {},
     "output_type": "execute_result"
    }
   ],
   "source": [
    "type(lebanon['Year'][0])"
   ]
  },
  {
   "cell_type": "code",
   "execution_count": 16,
   "metadata": {},
   "outputs": [],
   "source": [
    "lebanon = lebanon.merge(refugees_lebanon, on='Year')"
   ]
  },
  {
   "cell_type": "code",
   "execution_count": 17,
   "metadata": {},
   "outputs": [
    {
     "data": {
      "text/html": [
       "<div>\n",
       "<style scoped>\n",
       "    .dataframe tbody tr th:only-of-type {\n",
       "        vertical-align: middle;\n",
       "    }\n",
       "\n",
       "    .dataframe tbody tr th {\n",
       "        vertical-align: top;\n",
       "    }\n",
       "\n",
       "    .dataframe thead th {\n",
       "        text-align: right;\n",
       "    }\n",
       "</style>\n",
       "<table border=\"1\" class=\"dataframe\">\n",
       "  <thead>\n",
       "    <tr style=\"text-align: right;\">\n",
       "      <th></th>\n",
       "      <th>index_x</th>\n",
       "      <th>Year</th>\n",
       "      <th>Population</th>\n",
       "      <th>Yearly %</th>\n",
       "      <th>Yearly</th>\n",
       "      <th>Migrants (net)</th>\n",
       "      <th>Median Age</th>\n",
       "      <th>Fertility Rate</th>\n",
       "      <th>Density (P/Km²)</th>\n",
       "      <th>Urban</th>\n",
       "      <th>Urban Population</th>\n",
       "      <th>Country's Share of</th>\n",
       "      <th>World Population</th>\n",
       "      <th>Lebanon</th>\n",
       "      <th>index_y</th>\n",
       "      <th>data_date</th>\n",
       "      <th>individuals</th>\n",
       "      <th>first of year</th>\n",
       "    </tr>\n",
       "  </thead>\n",
       "  <tbody>\n",
       "    <tr>\n",
       "      <th>0</th>\n",
       "      <td>2</td>\n",
       "      <td>2018.0</td>\n",
       "      <td>6093509.0</td>\n",
       "      <td>0.18%</td>\n",
       "      <td>11,152</td>\n",
       "      <td>-30,000</td>\n",
       "      <td>29.0</td>\n",
       "      <td>1.71</td>\n",
       "      <td>596.0</td>\n",
       "      <td>72.00%</td>\n",
       "      <td>4,386,037</td>\n",
       "      <td>0.08%</td>\n",
       "      <td>7,632,819,325</td>\n",
       "      <td>112</td>\n",
       "      <td>467</td>\n",
       "      <td>1/31/2018</td>\n",
       "      <td>995512</td>\n",
       "      <td>995512.0</td>\n",
       "    </tr>\n",
       "    <tr>\n",
       "      <th>1</th>\n",
       "      <td>3</td>\n",
       "      <td>2017.0</td>\n",
       "      <td>6082357.0</td>\n",
       "      <td>1.26%</td>\n",
       "      <td>75,689</td>\n",
       "      <td>-30,000</td>\n",
       "      <td>29.0</td>\n",
       "      <td>1.71</td>\n",
       "      <td>595.0</td>\n",
       "      <td>73.00%</td>\n",
       "      <td>4,437,679</td>\n",
       "      <td>0.08%</td>\n",
       "      <td>7,550,262,101</td>\n",
       "      <td>111</td>\n",
       "      <td>464</td>\n",
       "      <td>6/30/2017</td>\n",
       "      <td>1001051</td>\n",
       "      <td>1001051.0</td>\n",
       "    </tr>\n",
       "    <tr>\n",
       "      <th>2</th>\n",
       "      <td>4</td>\n",
       "      <td>2016.0</td>\n",
       "      <td>6006668.0</td>\n",
       "      <td>2.65%</td>\n",
       "      <td>155,189</td>\n",
       "      <td>-30,000</td>\n",
       "      <td>29.0</td>\n",
       "      <td>1.71</td>\n",
       "      <td>587.0</td>\n",
       "      <td>74.30%</td>\n",
       "      <td>4,461,385</td>\n",
       "      <td>0.08%</td>\n",
       "      <td>7,466,964,280</td>\n",
       "      <td>111</td>\n",
       "      <td>458</td>\n",
       "      <td>1/31/2016</td>\n",
       "      <td>1067785</td>\n",
       "      <td>1067785.0</td>\n",
       "    </tr>\n",
       "    <tr>\n",
       "      <th>3</th>\n",
       "      <td>5</td>\n",
       "      <td>2015.0</td>\n",
       "      <td>5851479.0</td>\n",
       "      <td>6.17%</td>\n",
       "      <td>302,868</td>\n",
       "      <td>250,000</td>\n",
       "      <td>28.5</td>\n",
       "      <td>1.72</td>\n",
       "      <td>572.0</td>\n",
       "      <td>75.80%</td>\n",
       "      <td>4,436,670</td>\n",
       "      <td>0.08%</td>\n",
       "      <td>7,383,008,820</td>\n",
       "      <td>112</td>\n",
       "      <td>397</td>\n",
       "      <td>1/2/2015</td>\n",
       "      <td>1146911</td>\n",
       "      <td>1146911.0</td>\n",
       "    </tr>\n",
       "  </tbody>\n",
       "</table>\n",
       "</div>"
      ],
      "text/plain": [
       "   index_x    Year  Population Yearly %    Yearly Migrants (net)  Median Age  \\\n",
       "0        2  2018.0   6093509.0     0.18%   11,152        -30,000        29.0   \n",
       "1        3  2017.0   6082357.0     1.26%   75,689        -30,000        29.0   \n",
       "2        4  2016.0   6006668.0     2.65%  155,189        -30,000        29.0   \n",
       "3        5  2015.0   5851479.0     6.17%  302,868        250,000        28.5   \n",
       "\n",
       "   Fertility Rate  Density (P/Km²)   Urban Urban Population  \\\n",
       "0            1.71            596.0  72.00%        4,386,037   \n",
       "1            1.71            595.0  73.00%        4,437,679   \n",
       "2            1.71            587.0  74.30%        4,461,385   \n",
       "3            1.72            572.0  75.80%        4,436,670   \n",
       "\n",
       "  Country's Share of World Population Lebanon  index_y  data_date  \\\n",
       "0              0.08%    7,632,819,325     112      467  1/31/2018   \n",
       "1              0.08%    7,550,262,101     111      464  6/30/2017   \n",
       "2              0.08%    7,466,964,280     111      458  1/31/2016   \n",
       "3              0.08%    7,383,008,820     112      397   1/2/2015   \n",
       "\n",
       "   individuals  first of year  \n",
       "0       995512       995512.0  \n",
       "1      1001051      1001051.0  \n",
       "2      1067785      1067785.0  \n",
       "3      1146911      1146911.0  "
      ]
     },
     "execution_count": 17,
     "metadata": {},
     "output_type": "execute_result"
    }
   ],
   "source": [
    "lebanon"
   ]
  },
  {
   "cell_type": "code",
   "execution_count": 18,
   "metadata": {},
   "outputs": [
    {
     "data": {
      "text/plain": [
       "Text(0, 0.5, 'Refugees as a percent of total Population')"
      ]
     },
     "execution_count": 18,
     "metadata": {},
     "output_type": "execute_result"
    },
    {
     "data": {
      "image/png": "[encoded data removed]",
      "text/plain": [
       "<Figure size 432x288 with 1 Axes>"
      ]
     },
     "metadata": {
      "needs_background": "light"
     },
     "output_type": "display_data"
    }
   ],
   "source": [
    "#plt.bar(turkey['Year'], turkey['Population']/1000000)\n",
    "\n",
    "\n",
    "plt.bar(round(lebanon['Year']), (lebanon['individuals']/100)/(lebanon['Population']/10000))\n",
    "plt.xticks([2015, 2016, 2017, 2018])\n",
    "\n",
    "plt.ylabel('Refugees as a percent of total Population')\n",
    "\n",
    "#This is probably the best chart to show a crisis. The bottom chart is a bit underwhelming."
   ]
  },
  {
   "cell_type": "code",
   "execution_count": 19,
   "metadata": {},
   "outputs": [
    {
     "data": {
      "text/plain": [
       "<matplotlib.legend.Legend at 0x192a5e3df60>"
      ]
     },
     "execution_count": 19,
     "metadata": {},
     "output_type": "execute_result"
    },
    {
     "data": {
      "image/png": "[encoded data removed]",
      "text/plain": [
       "<Figure size 432x288 with 1 Axes>"
      ]
     },
     "metadata": {
      "needs_background": "light"
     },
     "output_type": "display_data"
    }
   ],
   "source": [
    "plt.bar(lebanon['Year'], lebanon['Population']/1000000)\n",
    "plt.xticks([2015, 2016, 2017, 2018])\n",
    "plt.bar(lebanon['Year'], lebanon['individuals']/1000000, label=\"Refugees\")\n",
    "plt.ylabel('Lebanon population in millions')\n",
    "plt.legend()"
   ]
  }
 ],
 "metadata": {
  "kernelspec": {
   "display_name": "Python 3",
   "language": "python",
   "name": "python3"
  },
  "language_info": {
   "codemirror_mode": {
    "name": "ipython",
    "version": 3
   },
   "file_extension": ".py",
   "mimetype": "text/x-python",
   "name": "python",
   "nbconvert_exporter": "python",
   "pygments_lexer": "ipython3",
   "version": "3.7.0"
  }
 },
 "nbformat": 4,
 "nbformat_minor": 2
}
