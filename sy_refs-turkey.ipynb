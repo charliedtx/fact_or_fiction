{
 "cells": [
  {
   "cell_type": "code",
   "execution_count": 2,
   "metadata": {},
   "outputs": [],
   "source": [
    "import matplotlib.pyplot as plt\n",
    "import pandas as pd\n",
    "import numpy as np\n",
    "\n",
    "from numpy import nan"
   ]
  },
  {
   "cell_type": "code",
   "execution_count": 4,
   "metadata": {},
   "outputs": [],
   "source": [
    "turkey = pd.read_csv('data/clean_data/population-turkey.csv', thousands=\",\")\n",
    "\n",
    "#source = http://www.worldometers.info/world-population/turkey-population/"
   ]
  },
  {
   "cell_type": "code",
   "execution_count": 5,
   "metadata": {},
   "outputs": [
    {
     "name": "stderr",
     "output_type": "stream",
     "text": [
      "C:\\Users\\corbi\\Anaconda3\\lib\\site-packages\\ipykernel_launcher.py:5: SettingWithCopyWarning: \n",
      "A value is trying to be set on a copy of a slice from a DataFrame\n",
      "\n",
      "See the caveats in the documentation: http://pandas.pydata.org/pandas-docs/stable/indexing.html#indexing-view-versus-copy\n",
      "  \"\"\"\n"
     ]
    }
   ],
   "source": [
    "refugees_turkey = pd.read_csv('data/clean_data/syr-reg_ref_by_date-turkey.csv')\n",
    "\n",
    "#source = https://data2.unhcr.org/en/situations/syria/location/113\n",
    "\n",
    "refugees_turkey['first of year'][1] = refugees_turkey['individuals'][1]"
   ]
  },
  {
   "cell_type": "code",
   "execution_count": 6,
   "metadata": {},
   "outputs": [],
   "source": [
    "refugees_turkey = refugees_turkey.dropna()"
   ]
  },
  {
   "cell_type": "code",
   "execution_count": 7,
   "metadata": {},
   "outputs": [],
   "source": [
    "turkey = turkey.dropna()\n"
   ]
  },
  {
   "cell_type": "code",
   "execution_count": 8,
   "metadata": {},
   "outputs": [],
   "source": [
    "refugees_turkey =refugees_turkey.reset_index()"
   ]
  },
  {
   "cell_type": "code",
   "execution_count": 9,
   "metadata": {},
   "outputs": [],
   "source": [
    "refugees_turkey['Date'] = 0"
   ]
  },
  {
   "cell_type": "code",
   "execution_count": 10,
   "metadata": {},
   "outputs": [
    {
     "name": "stderr",
     "output_type": "stream",
     "text": [
      "C:\\Users\\corbi\\Anaconda3\\lib\\site-packages\\ipykernel_launcher.py:3: SettingWithCopyWarning: \n",
      "A value is trying to be set on a copy of a slice from a DataFrame\n",
      "\n",
      "See the caveats in the documentation: http://pandas.pydata.org/pandas-docs/stable/indexing.html#indexing-view-versus-copy\n",
      "  This is separate from the ipykernel package so we can avoid doing imports until\n"
     ]
    }
   ],
   "source": [
    "for i in range(len(refugees_turkey)):\n",
    "\n",
    "    refugees_turkey['Date'][i] = float(refugees_turkey['data_date'][i][-4:])"
   ]
  },
  {
   "cell_type": "code",
   "execution_count": 11,
   "metadata": {},
   "outputs": [],
   "source": [
    "refugees_turkey = refugees_turkey.rename(columns={'Date': 'Year'})"
   ]
  },
  {
   "cell_type": "code",
   "execution_count": 12,
   "metadata": {},
   "outputs": [],
   "source": [
    "turkey = turkey.reset_index()"
   ]
  },
  {
   "cell_type": "code",
   "execution_count": 13,
   "metadata": {},
   "outputs": [
    {
     "data": {
      "text/plain": [
       "numpy.float64"
      ]
     },
     "execution_count": 13,
     "metadata": {},
     "output_type": "execute_result"
    }
   ],
   "source": [
    "type(turkey['Year'][0])"
   ]
  },
  {
   "cell_type": "code",
   "execution_count": 14,
   "metadata": {},
   "outputs": [],
   "source": [
    "turkey = turkey.merge(refugees_turkey, on='Year')"
   ]
  },
  {
   "cell_type": "code",
   "execution_count": 15,
   "metadata": {},
   "outputs": [
    {
     "data": {
      "text/html": [
       "<div>\n",
       "<style scoped>\n",
       "    .dataframe tbody tr th:only-of-type {\n",
       "        vertical-align: middle;\n",
       "    }\n",
       "\n",
       "    .dataframe tbody tr th {\n",
       "        vertical-align: top;\n",
       "    }\n",
       "\n",
       "    .dataframe thead th {\n",
       "        text-align: right;\n",
       "    }\n",
       "</style>\n",
       "<table border=\"1\" class=\"dataframe\">\n",
       "  <thead>\n",
       "    <tr style=\"text-align: right;\">\n",
       "      <th></th>\n",
       "      <th>index_x</th>\n",
       "      <th>Year</th>\n",
       "      <th>Population</th>\n",
       "      <th>Yearly %</th>\n",
       "      <th>Yearly</th>\n",
       "      <th>Migrants (net)</th>\n",
       "      <th>Median Age</th>\n",
       "      <th>Fertility Rate</th>\n",
       "      <th>Density (P/Km²)</th>\n",
       "      <th>Urban</th>\n",
       "      <th>Urban Population</th>\n",
       "      <th>Country's Share of</th>\n",
       "      <th>World Population</th>\n",
       "      <th>Turkey</th>\n",
       "      <th>index_y</th>\n",
       "      <th>data_date</th>\n",
       "      <th>individuals</th>\n",
       "      <th>first of year</th>\n",
       "    </tr>\n",
       "  </thead>\n",
       "  <tbody>\n",
       "    <tr>\n",
       "      <th>0</th>\n",
       "      <td>2</td>\n",
       "      <td>2018.0</td>\n",
       "      <td>81916871.0</td>\n",
       "      <td>1.45%</td>\n",
       "      <td>1,171,851</td>\n",
       "      <td>305000.0</td>\n",
       "      <td>30.2</td>\n",
       "      <td>2.10</td>\n",
       "      <td>106.0</td>\n",
       "      <td>72.10%</td>\n",
       "      <td>59060906.0</td>\n",
       "      <td>1.07%</td>\n",
       "      <td>7.632819e+09</td>\n",
       "      <td>19</td>\n",
       "      <td>435</td>\n",
       "      <td>1/25/2018</td>\n",
       "      <td>3466263</td>\n",
       "      <td>3466263.0</td>\n",
       "    </tr>\n",
       "    <tr>\n",
       "      <th>1</th>\n",
       "      <td>3</td>\n",
       "      <td>2017.0</td>\n",
       "      <td>80745020.0</td>\n",
       "      <td>1.55%</td>\n",
       "      <td>1,232,594</td>\n",
       "      <td>305000.0</td>\n",
       "      <td>30.2</td>\n",
       "      <td>2.10</td>\n",
       "      <td>105.0</td>\n",
       "      <td>72.00%</td>\n",
       "      <td>58172652.0</td>\n",
       "      <td>1.07%</td>\n",
       "      <td>7.550262e+09</td>\n",
       "      <td>19</td>\n",
       "      <td>409</td>\n",
       "      <td>1/12/2017</td>\n",
       "      <td>2854968</td>\n",
       "      <td>2854968.0</td>\n",
       "    </tr>\n",
       "    <tr>\n",
       "      <th>2</th>\n",
       "      <td>4</td>\n",
       "      <td>2016.0</td>\n",
       "      <td>79512426.0</td>\n",
       "      <td>1.59%</td>\n",
       "      <td>1,240,954</td>\n",
       "      <td>305000.0</td>\n",
       "      <td>30.2</td>\n",
       "      <td>2.10</td>\n",
       "      <td>103.0</td>\n",
       "      <td>72.00%</td>\n",
       "      <td>57251665.0</td>\n",
       "      <td>1.06%</td>\n",
       "      <td>7.466964e+09</td>\n",
       "      <td>18</td>\n",
       "      <td>390</td>\n",
       "      <td>2/15/2016</td>\n",
       "      <td>2620553</td>\n",
       "      <td>2620553.0</td>\n",
       "    </tr>\n",
       "    <tr>\n",
       "      <th>3</th>\n",
       "      <td>5</td>\n",
       "      <td>2015.0</td>\n",
       "      <td>78271472.0</td>\n",
       "      <td>1.59%</td>\n",
       "      <td>1,188,912</td>\n",
       "      <td>325434.0</td>\n",
       "      <td>29.9</td>\n",
       "      <td>2.12</td>\n",
       "      <td>102.0</td>\n",
       "      <td>71.90%</td>\n",
       "      <td>56288353.0</td>\n",
       "      <td>1.06%</td>\n",
       "      <td>7.383009e+09</td>\n",
       "      <td>18</td>\n",
       "      <td>373</td>\n",
       "      <td>3/6/2015</td>\n",
       "      <td>1698472</td>\n",
       "      <td>1698472.0</td>\n",
       "    </tr>\n",
       "  </tbody>\n",
       "</table>\n",
       "</div>"
      ],
      "text/plain": [
       "   index_x    Year  Population Yearly %      Yearly  Migrants (net)  \\\n",
       "0        2  2018.0  81916871.0     1.45%  1,171,851        305000.0   \n",
       "1        3  2017.0  80745020.0     1.55%  1,232,594        305000.0   \n",
       "2        4  2016.0  79512426.0     1.59%  1,240,954        305000.0   \n",
       "3        5  2015.0  78271472.0     1.59%  1,188,912        325434.0   \n",
       "\n",
       "   Median Age  Fertility Rate  Density (P/Km²)   Urban  Urban Population  \\\n",
       "0        30.2            2.10            106.0  72.10%        59060906.0   \n",
       "1        30.2            2.10            105.0  72.00%        58172652.0   \n",
       "2        30.2            2.10            103.0  72.00%        57251665.0   \n",
       "3        29.9            2.12            102.0  71.90%        56288353.0   \n",
       "\n",
       "  Country's Share of  World Population Turkey  index_y  data_date  \\\n",
       "0              1.07%      7.632819e+09     19      435  1/25/2018   \n",
       "1              1.07%      7.550262e+09     19      409  1/12/2017   \n",
       "2              1.06%      7.466964e+09     18      390  2/15/2016   \n",
       "3              1.06%      7.383009e+09     18      373   3/6/2015   \n",
       "\n",
       "   individuals  first of year  \n",
       "0      3466263      3466263.0  \n",
       "1      2854968      2854968.0  \n",
       "2      2620553      2620553.0  \n",
       "3      1698472      1698472.0  "
      ]
     },
     "execution_count": 15,
     "metadata": {},
     "output_type": "execute_result"
    }
   ],
   "source": [
    "turkey"
   ]
  },
  {
   "cell_type": "code",
   "execution_count": 16,
   "metadata": {},
   "outputs": [
    {
     "data": {
      "text/plain": [
       "Text(0, 0.5, 'Refugees as a percent of total Population')"
      ]
     },
     "execution_count": 16,
     "metadata": {},
     "output_type": "execute_result"
    },
    {
     "data": {
      "image/png": "[encoded data removed]",
      "text/plain": [
       "<Figure size 432x288 with 1 Axes>"
      ]
     },
     "metadata": {
      "needs_background": "light"
     },
     "output_type": "display_data"
    }
   ],
   "source": [
    "#plt.bar(turkey['Year'], turkey['Population']/1000000)\n",
    "\n",
    "\n",
    "plt.bar(round(turkey['Year']), (turkey['individuals']/100)/(turkey['Population']/10000))\n",
    "plt.xticks([2015, 2016, 2017, 2018])\n",
    "\n",
    "plt.ylabel('Refugees as a percent of total Population')\n",
    "\n",
    "#This is probably the best chart to show a crisis. The bottom chart is a bit underwhelming."
   ]
  },
  {
   "cell_type": "code",
   "execution_count": 17,
   "metadata": {},
   "outputs": [
    {
     "data": {
      "text/plain": [
       "<matplotlib.legend.Legend at 0x1baf1ae0be0>"
      ]
     },
     "execution_count": 17,
     "metadata": {},
     "output_type": "execute_result"
    },
    {
     "data": {
      "image/png": "[encoded data removed]",
      "text/plain": [
       "<Figure size 432x288 with 1 Axes>"
      ]
     },
     "metadata": {
      "needs_background": "light"
     },
     "output_type": "display_data"
    }
   ],
   "source": [
    "plt.bar(turkey['Year'], turkey['Population']/1000000)\n",
    "plt.xticks([2015, 2016, 2017, 2018])\n",
    "plt.bar(turkey['Year'], turkey['individuals']/1000000, label=\"Refugees\")\n",
    "plt.ylabel('Turkey population in millions')\n",
    "plt.legend()"
   ]
  },
  {
   "cell_type": "code",
   "execution_count": null,
   "metadata": {},
   "outputs": [],
   "source": []
  }
 ],
 "metadata": {
  "kernelspec": {
   "display_name": "Python 3",
   "language": "python",
   "name": "python3"
  },
  "language_info": {
   "codemirror_mode": {
    "name": "ipython",
    "version": 3
   },
   "file_extension": ".py",
   "mimetype": "text/x-python",
   "name": "python",
   "nbconvert_exporter": "python",
   "pygments_lexer": "ipython3",
   "version": "3.7.0"
  }
 },
 "nbformat": 4,
 "nbformat_minor": 2
}
