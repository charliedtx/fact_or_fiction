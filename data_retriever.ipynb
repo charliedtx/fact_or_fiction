{
 "cells": [
  {
   "cell_type": "code",
   "execution_count": 1,
   "metadata": {},
   "outputs": [],
   "source": [
    "import pandas as pd"
   ]
  },
  {
   "cell_type": "markdown",
   "metadata": {},
   "source": [
    "This module allows the user to pull data by a specific table number, as indicated by https://www.dhs.gov/immigration-statistics/yearbook/2017. "
   ]
  },
  {
   "cell_type": "markdown",
   "metadata": {},
   "source": [
    "## Read the tables"
   ]
  },
  {
   "cell_type": "code",
   "execution_count": 4,
   "metadata": {},
   "outputs": [],
   "source": [
    "dhs = {\n",
    "    'table1':pd.read_excel(\"data/fy_data/fy2017_table1.xlsx\", header=3, skipfooter=2, na_values=['-','D']),\n",
    "    'table2':pd.read_excel(\"data/fy_data/fy2017_table2.xlsx\",header=3 ,skipfooter=24, na_values=['-','D']),\n",
    "    'table3':pd.read_excel(\"data/fy_data/fy2017_table3d.xlsx\",header=3 ,skipfooter=6, na_values=['-','D']),\n",
    "    'table4':pd.read_excel(\"data/fy_data/fy2017_table4.xlsx\",header=3, skipfooter=3, na_values=['-','D']),\n",
    "    'table5':pd.read_excel(\"data/fy_data/fy2017_table5.xlsx\", header=3, skipfooter=2, na_values=['-','D']),\n",
    "    'table6':pd.read_excel(\"data/fy_data/fy2017_table6.xlsx\",header=3, skipfooter=4, na_values=['-','D']),\n",
    "    'table7':pd.read_excel(\"data/fy_data/fy2017_table7d.xlsx\",header=3, skipfooter=3, na_values=['-','D']),\n",
    "    'table8':pd.read_excel(\"data/fy_data/fy2017_table8.xlsx\",header=3, skipfooter=2, na_values=['-','D']),\n",
    "    'table9':pd.read_excel(\"data/fy_data/fy2017_table9d.xlsx\", header=3, skipfooter=3, na_values=['-','D']),\n",
    "    'table10':pd.read_excel(\"data/fy_data/fy2017_table10d.xlsx\", header=3, skipfooter=4, na_values=['-','D']),\n",
    "    'table11':pd.read_excel(\"data/fy_data/fy2017_table11d.xlsx\", header=3, skipfooter=4, na_values=['-','D']),\n",
    "    'table12':pd.read_excel(\"data/fy_data/fy2017_table12d.xlsx\", header=3, skipfooter=4, na_values=['-','D']),\n",
    "    'table13':pd.read_excel(\"data/fy_data/fy2016_table13.xls\", header=3, skipfooter=2, na_values=['-','D']),\n",
    "    'table14':pd.read_excel(\"data/fy_data/fy2016_table14d.xls\", header=3, skipfooter=7, na_values=['-','D']),\n",
    "    'table15':pd.read_excel(\"data/fy_data/fy2016_table15d.xls\", header=3, skipfooter=4, na_values=['-','D']),\n",
    "    'table16':pd.read_excel(\"data/fy_data/fy2016_table16.xls\", header=3, skipfooter=1, na_values=['-','D']),\n",
    "    'table17':pd.read_excel(\"data/fy_data/fy2016_table17d.xls\", header=3, skipfooter=5, na_values=['-','D']),\n",
    "    'table18':pd.read_excel(\"data/fy_data/fy2016_table18d.xls\", header=3, skipfooter=5, na_values=['-','D']),\n",
    "    'table19':pd.read_excel(\"data/fy_data/fy2016_table19d.xls\", header=3, skipfooter=5, na_values=['-','D']),\n",
    "    'table20':pd.read_excel(\"data/fy_data/fy2017_table20.xlsx\", header = 5, skipfooter=6, na_values=['-','D']),\n",
    "    'table21':pd.read_excel(\"data/fy_data/fy2017_table21d.xlsx\", header = 3, skipfooter=6, na_values=['-','D']),\n",
    "    'table22':pd.read_excel(\"data/fy_data/fy2017_table22.xlsx\", header = 3, skipfooter=3, na_values=['-','D']),\n",
    "    'table23':pd.read_excel(\"data/fy_data/fy2017_table23.xlsx\", header=4, skipfooter=2, na_values=['-','D']),\n",
    "    'table24':pd.read_excel(\"data/fy_data/fy2017_table24.xlsx\", header=4, skipfooter=3, na_values=['-','D']),\n",
    "    'table25':pd.read_excel(\"data/fy_data/fy2017_table25d.xlsx\", header=2, skipfooter=10, na_values=['-','D']),\n",
    "    'table26':pd.read_excel(\"data/fy_data/fy2017_table26d.xlsx\", header=3, skipfooter=16, na_values=['-','D']),\n",
    "    'table27':pd.read_excel(\"data/fy_data/fy2017_table27d.xlsx\", header=3, skipfooter=9, na_values=['-','D']),\n",
    "    'table28':pd.read_excel(\"data/fy_data/fy2017_table28d.xlsx\", header=3, skipfooter=20, na_values=['-','D']),\n",
    "    'table29':pd.read_excel(\"data/fy_data/fy2017_table29.xlsx\", header=3, skipfooter=8, na_values=['-','D']),\n",
    "    'table30':pd.read_excel(\"data/fy_data/fy2017_table30.xlsx\", header=3, skipfooter=9, na_values=['-','D']),\n",
    "    'table31':pd.read_excel(\"data/fy_data/fy2017_table31.xlsx\", header=3, skipfooter=8, na_values=['-','D']),\n",
    "    'table32':pd.read_excel(\"data/fy_data/fy2017_table32d.xlsx\", header=3, skipfooter=16, na_values=['-','D'])\n",
    "    }"
   ]
  },
  {
   "cell_type": "code",
   "execution_count": 5,
   "metadata": {},
   "outputs": [],
   "source": [
    "descriptions = {\n",
    "    \"table1\":\"Persons Obtaining Lawful Permanent Resident Status: Fiscal Years 1820 to 2017\",\n",
    "    \"table2\":\"Persons Obtaining Lawful Permanent Resident Status by Region and Selected Country of Last Residence: Fiscal Years 2015 to 2017\",\n",
    "    \"table3\":\"Persons Obtaining Lawful Permanent Resident Status by Region and Country of Birth: Fiscal Years 2015 to 2017\",\n",
    "    \"table4\":\"Persons Obtaining Lawful Permanent Resident Status by State or Territory of Residence: Fiscal Years 2015 to 2017\",\n",
    "    \"table5\":\"Persons Obtaining Lawful Permanent Resident Status by Core Based Statistical Area (CBSA) of Residence: Fiscal Years 2015 to 2017\",\n",
    "    \"table6\":\"Persons Obtaining Lawful Permanent Resident Status by Type and Major Class of Admission: Fiscal Years 2015 to 2017\",\n",
    "    \"table7\":\"Persons Obtaining Lawful Permanent Resident Status by Type and Detailed Class of Admission: Fiscal Year 2017\",\n",
    "    \"table8\":\"Persons Obtaining Lawful Permanent Resident Status by Sex, Age, Marital Status, and Occupation: Fiscal Year 2017\",\n",
    "    \"table9\":\"Persons Obtaining Lawful Permanent Resident Status by Broad Class of Admission and Selected Demographic Characteristics: Fiscal Year 2017\",\n",
    "    \"table10\":\"Persons Obtaining Lawful Permanent Resident Status by Broad Class of Admission and Region and Country of Birth: Fiscal Year 2017\",\n",
    "    \"table11\":\"Persons Obtaining Lawful Permanent Resident Status by Broad Class of Admission and Region and Country of Last Residence: Fiscal Year 2017\",\n",
    "    \"table12\":\"Immigrant Orphans Adopted by U.S. Citizens by Sex, Age, and Region and Country of Birth: Fiscal Year 2017\",\n",
    "    \"table13\":\"Refugee Arrivals: Fiscal Years 1980 To 2016\",\n",
    "    \"table14\":\"Refugee Arrivals By Region And Country Of Nationality: Fiscal Years 2014 To 2016\",\n",
    "    \"table15\":\"Refugee Arrivals By Relationship To Principal Applicant And Sex, Age, And Marital Status: Fiscal Year 2016\",\n",
    "    \"table16\":\"Individuals Granted Asylum Affirmatively Or Defensively: Fiscal Years 1990 To 2016\",\n",
    "    \"table17\":\"Individuals Granted Asylum Affirmatively By Region And Country Of Nationality: Fiscal Years 2014 To 2016\",\n",
    "    \"table18\":\"Individuals Granted Asylum Affirmatively By Relationship To Principal Applicant And Sex, Age, And Marital Status: Fiscal Year 2016\",\n",
    "    \"table19\":\"Individuals Granted Asylum Defensively By Region And Country Of Nationality: Fiscal Years 2014 To 2016\",\n",
    "    \"table20\":\"Petitions for Naturalization Filed, Persons Naturalized, and Petitions for Naturalization Denied: Fiscal Years 1907 to 2017\",\n",
    "    \"table21\":\"Persons Naturalized by Region and Country of Birth: Fiscal Years 2015 to 2017\",\n",
    "    \"table22\":\"Persons Naturalized by State or Territory of Residence: Fiscal Years 2015 to 2017\",\n",
    "    \"table23\":\"Persons Naturalized by Core Based Statistical Area (CBSA) of Residence: Fiscal Years 2015 to 2017\",\n",
    "    \"table24\":\"Persons Naturalized by Sex, Age, Marital Status, and Occupation: Fiscal Year 2017\",\n",
    "    \"table25\":\"Nonimmigrant Admissions by Class of Admission: Fiscal Years 2015 to 2017\",\n",
    "    \"table26\":\"Nonimmigrant Admissions (I-94 Only) by Region and Country of Citizenship: Fiscal Years 2015 to 2017\",\n",
    "    \"table27\":\"Nonimmigrant Admissions (I-94 Only) by Region and Country of Residence: Fiscal Years 2015 to 2017\",\n",
    "    \"table28\":\"Nonimmigrant Admissions (I-94 Only) by Selected Category of Admission and Region and Country of Citizenship: Fiscal Year 2017\",\n",
    "    \"table29\":\"Nonimmigrant Admissions (I-94 Only) by Selected Category of Admission, Age, And Sex: Fiscal Year 2017\",\n",
    "    \"table30\":\"Nonimmigrant Admissions (I-94 Only) by Selected Category of Admission and State or Territory of Destination: Fiscal Year 2017\",\n",
    "    \"table31\":\"Nonimmigrant Admissions (I-94 Only) by Selected Category of Admission and Month of Arrival: Fiscal Year 2017\",\n",
    "    \"table32\":\"Nonimmigrant Temporary Worker Admissions (I-94 Only) by Region and Country of Citizenship: Fiscal Year 2017\"\n",
    "}"
   ]
  },
  {
   "cell_type": "code",
   "execution_count": 6,
   "metadata": {},
   "outputs": [],
   "source": [
    "def get_data_by_table_number(table_number):\n",
    "    return dhs.get(f'table{table_number}')"
   ]
  },
  {
   "cell_type": "code",
   "execution_count": 7,
   "metadata": {},
   "outputs": [],
   "source": [
    "def get_description_by_table_number(table_number):\n",
    "    return descriptions.get(f'table{table_number}')"
   ]
  },
  {
   "cell_type": "code",
   "execution_count": null,
   "metadata": {},
   "outputs": [],
   "source": []
  }
 ],
 "metadata": {
  "kernelspec": {
   "display_name": "Python 3",
   "language": "python",
   "name": "python3"
  },
  "language_info": {
   "codemirror_mode": {
    "name": "ipython",
    "version": 3
   },
   "file_extension": ".py",
   "mimetype": "text/x-python",
   "name": "python",
   "nbconvert_exporter": "python",
   "pygments_lexer": "ipython3",
   "version": "3.7.0"
  }
 },
 "nbformat": 4,
 "nbformat_minor": 2
}
