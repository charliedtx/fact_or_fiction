{
 "cells": [
  {
   "cell_type": "code",
   "execution_count": 9,
   "metadata": {},
   "outputs": [],
   "source": [
    "import matplotlib.pyplot as plt\n",
    "import pandas as pd\n",
    "import numpy as np\n",
    "\n",
    "from numpy import nan"
   ]
  },
  {
   "cell_type": "code",
   "execution_count": 23,
   "metadata": {},
   "outputs": [],
   "source": [
    "jordan = pd.read_csv('data/clean_data/population-jordan.csv', thousands=',')\n",
    "\n",
    "#source = http://www.worldometers.info/world-population/jordan-population/"
   ]
  },
  {
   "cell_type": "code",
   "execution_count": 24,
   "metadata": {},
   "outputs": [
    {
     "name": "stderr",
     "output_type": "stream",
     "text": [
      "C:\\Users\\corbi\\Anaconda3\\lib\\site-packages\\ipykernel_launcher.py:5: SettingWithCopyWarning: \n",
      "A value is trying to be set on a copy of a slice from a DataFrame\n",
      "\n",
      "See the caveats in the documentation: http://pandas.pydata.org/pandas-docs/stable/indexing.html#indexing-view-versus-copy\n",
      "  \"\"\"\n"
     ]
    }
   ],
   "source": [
    "refugees_jordan = pd.read_csv('data/clean_data/syr-reg_ref_by_date-jordan.csv', thousands=',')\n",
    "\n",
    "#source = https://data2.unhcr.org/en/situations/syria/location/36\n",
    "\n",
    "refugees_jordan['first of year'][1] = refugees_jordan['individuals'][1]"
   ]
  },
  {
   "cell_type": "code",
   "execution_count": 25,
   "metadata": {},
   "outputs": [],
   "source": [
    "refugees_jordan = refugees_jordan.dropna()"
   ]
  },
  {
   "cell_type": "code",
   "execution_count": 26,
   "metadata": {},
   "outputs": [],
   "source": [
    "jordan = jordan.dropna()\n"
   ]
  },
  {
   "cell_type": "code",
   "execution_count": 27,
   "metadata": {},
   "outputs": [],
   "source": [
    "refugees_jordan = refugees_jordan.reset_index()"
   ]
  },
  {
   "cell_type": "code",
   "execution_count": 28,
   "metadata": {},
   "outputs": [],
   "source": [
    "refugees_jordan['Date'] = 0"
   ]
  },
  {
   "cell_type": "code",
   "execution_count": 29,
   "metadata": {},
   "outputs": [
    {
     "name": "stderr",
     "output_type": "stream",
     "text": [
      "C:\\Users\\corbi\\Anaconda3\\lib\\site-packages\\ipykernel_launcher.py:3: SettingWithCopyWarning: \n",
      "A value is trying to be set on a copy of a slice from a DataFrame\n",
      "\n",
      "See the caveats in the documentation: http://pandas.pydata.org/pandas-docs/stable/indexing.html#indexing-view-versus-copy\n",
      "  This is separate from the ipykernel package so we can avoid doing imports until\n"
     ]
    }
   ],
   "source": [
    "for i in range(len(refugees_jordan)):\n",
    "\n",
    "    refugees_jordan['Date'][i] = float(refugees_jordan['data_date'][i][-4:])"
   ]
  },
  {
   "cell_type": "code",
   "execution_count": 30,
   "metadata": {},
   "outputs": [],
   "source": [
    "refugees_jordan = refugees_jordan.rename(columns={'Date': 'Year'})"
   ]
  },
  {
   "cell_type": "code",
   "execution_count": 31,
   "metadata": {},
   "outputs": [],
   "source": [
    "jordan = jordan.reset_index()"
   ]
  },
  {
   "cell_type": "code",
   "execution_count": 32,
   "metadata": {},
   "outputs": [
    {
     "data": {
      "text/plain": [
       "numpy.float64"
      ]
     },
     "execution_count": 32,
     "metadata": {},
     "output_type": "execute_result"
    }
   ],
   "source": [
    "type(jordan['Year'][0])"
   ]
  },
  {
   "cell_type": "code",
   "execution_count": 33,
   "metadata": {},
   "outputs": [],
   "source": [
    "jordan = jordan.merge(refugees_jordan, on='Year')"
   ]
  },
  {
   "cell_type": "code",
   "execution_count": 34,
   "metadata": {},
   "outputs": [
    {
     "data": {
      "text/html": [
       "<div>\n",
       "<style scoped>\n",
       "    .dataframe tbody tr th:only-of-type {\n",
       "        vertical-align: middle;\n",
       "    }\n",
       "\n",
       "    .dataframe tbody tr th {\n",
       "        vertical-align: top;\n",
       "    }\n",
       "\n",
       "    .dataframe thead th {\n",
       "        text-align: right;\n",
       "    }\n",
       "</style>\n",
       "<table border=\"1\" class=\"dataframe\">\n",
       "  <thead>\n",
       "    <tr style=\"text-align: right;\">\n",
       "      <th></th>\n",
       "      <th>index_x</th>\n",
       "      <th>Year</th>\n",
       "      <th>Population</th>\n",
       "      <th>Yearly %</th>\n",
       "      <th>Yearly</th>\n",
       "      <th>Migrants (net)</th>\n",
       "      <th>Median Age</th>\n",
       "      <th>Fertility Rate</th>\n",
       "      <th>Density (P/Km²)</th>\n",
       "      <th>Urban</th>\n",
       "      <th>Urban Population</th>\n",
       "      <th>Country's Share of</th>\n",
       "      <th>World Population</th>\n",
       "      <th>Jordan</th>\n",
       "      <th>index_y</th>\n",
       "      <th>data_date</th>\n",
       "      <th>individuals</th>\n",
       "      <th>first of year</th>\n",
       "    </tr>\n",
       "  </thead>\n",
       "  <tbody>\n",
       "    <tr>\n",
       "      <th>0</th>\n",
       "      <td>2</td>\n",
       "      <td>2018.0</td>\n",
       "      <td>9903802.0</td>\n",
       "      <td>2.08%</td>\n",
       "      <td>201,449</td>\n",
       "      <td>0.0</td>\n",
       "      <td>22.4</td>\n",
       "      <td>3.53</td>\n",
       "      <td>112.0</td>\n",
       "      <td>67.80%</td>\n",
       "      <td>6710702.0</td>\n",
       "      <td>0.13%</td>\n",
       "      <td>7.632819e+09</td>\n",
       "      <td>91</td>\n",
       "      <td>462</td>\n",
       "      <td>1/2/2018</td>\n",
       "      <td>655624</td>\n",
       "      <td>655624.0</td>\n",
       "    </tr>\n",
       "    <tr>\n",
       "      <th>1</th>\n",
       "      <td>3</td>\n",
       "      <td>2017.0</td>\n",
       "      <td>9702353.0</td>\n",
       "      <td>2.61%</td>\n",
       "      <td>246,551</td>\n",
       "      <td>0.0</td>\n",
       "      <td>22.4</td>\n",
       "      <td>3.53</td>\n",
       "      <td>109.0</td>\n",
       "      <td>68.50%</td>\n",
       "      <td>6648077.0</td>\n",
       "      <td>0.13%</td>\n",
       "      <td>7.550262e+09</td>\n",
       "      <td>92</td>\n",
       "      <td>442</td>\n",
       "      <td>1/5/2017</td>\n",
       "      <td>655399</td>\n",
       "      <td>655399.0</td>\n",
       "    </tr>\n",
       "    <tr>\n",
       "      <th>2</th>\n",
       "      <td>4</td>\n",
       "      <td>2016.0</td>\n",
       "      <td>9455802.0</td>\n",
       "      <td>3.24%</td>\n",
       "      <td>296,500</td>\n",
       "      <td>0.0</td>\n",
       "      <td>22.4</td>\n",
       "      <td>3.53</td>\n",
       "      <td>107.0</td>\n",
       "      <td>69.40%</td>\n",
       "      <td>6561598.0</td>\n",
       "      <td>0.13%</td>\n",
       "      <td>7.466964e+09</td>\n",
       "      <td>93</td>\n",
       "      <td>422</td>\n",
       "      <td>1/19/2016</td>\n",
       "      <td>635324</td>\n",
       "      <td>635324.0</td>\n",
       "    </tr>\n",
       "    <tr>\n",
       "      <th>3</th>\n",
       "      <td>5</td>\n",
       "      <td>2015.0</td>\n",
       "      <td>9159302.0</td>\n",
       "      <td>4.98%</td>\n",
       "      <td>395,382</td>\n",
       "      <td>195057.0</td>\n",
       "      <td>22.1</td>\n",
       "      <td>3.60</td>\n",
       "      <td>103.0</td>\n",
       "      <td>70.30%</td>\n",
       "      <td>6434690.0</td>\n",
       "      <td>0.12%</td>\n",
       "      <td>7.383009e+09</td>\n",
       "      <td>93</td>\n",
       "      <td>367</td>\n",
       "      <td>1/4/2015</td>\n",
       "      <td>623338</td>\n",
       "      <td>623338.0</td>\n",
       "    </tr>\n",
       "  </tbody>\n",
       "</table>\n",
       "</div>"
      ],
      "text/plain": [
       "   index_x    Year  Population Yearly %    Yearly  Migrants (net)  Median Age  \\\n",
       "0        2  2018.0   9903802.0     2.08%  201,449             0.0        22.4   \n",
       "1        3  2017.0   9702353.0     2.61%  246,551             0.0        22.4   \n",
       "2        4  2016.0   9455802.0     3.24%  296,500             0.0        22.4   \n",
       "3        5  2015.0   9159302.0     4.98%  395,382        195057.0        22.1   \n",
       "\n",
       "   Fertility Rate  Density (P/Km²)   Urban  Urban Population  \\\n",
       "0            3.53            112.0  67.80%         6710702.0   \n",
       "1            3.53            109.0  68.50%         6648077.0   \n",
       "2            3.53            107.0  69.40%         6561598.0   \n",
       "3            3.60            103.0  70.30%         6434690.0   \n",
       "\n",
       "  Country's Share of  World Population Jordan  index_y  data_date  \\\n",
       "0              0.13%      7.632819e+09     91      462   1/2/2018   \n",
       "1              0.13%      7.550262e+09     92      442   1/5/2017   \n",
       "2              0.13%      7.466964e+09     93      422  1/19/2016   \n",
       "3              0.12%      7.383009e+09     93      367   1/4/2015   \n",
       "\n",
       "   individuals  first of year  \n",
       "0       655624       655624.0  \n",
       "1       655399       655399.0  \n",
       "2       635324       635324.0  \n",
       "3       623338       623338.0  "
      ]
     },
     "execution_count": 34,
     "metadata": {},
     "output_type": "execute_result"
    }
   ],
   "source": [
    "jordan"
   ]
  },
  {
   "cell_type": "code",
   "execution_count": 35,
   "metadata": {},
   "outputs": [
    {
     "data": {
      "text/plain": [
       "Text(0, 0.5, 'Refugees as a percent of total Population')"
      ]
     },
     "execution_count": 35,
     "metadata": {},
     "output_type": "execute_result"
    },
    {
     "data": {
      "image/png": "[encoded data removed]",
      "text/plain": [
       "<Figure size 432x288 with 1 Axes>"
      ]
     },
     "metadata": {
      "needs_background": "light"
     },
     "output_type": "display_data"
    }
   ],
   "source": [
    "#plt.bar(turkey['Year'], turkey['Population']/1000000)\n",
    "\n",
    "\n",
    "plt.bar(round(jordan['Year']), (jordan['individuals']/100)/(jordan['Population']/10000))\n",
    "plt.xticks([2015, 2016, 2017, 2018])\n",
    "\n",
    "plt.ylabel('Refugees as a percent of total Population')\n",
    "\n",
    "#This is probably the best chart to show a crisis. The bottom chart is a bit underwhelming."
   ]
  },
  {
   "cell_type": "code",
   "execution_count": 36,
   "metadata": {},
   "outputs": [
    {
     "data": {
      "text/plain": [
       "<matplotlib.legend.Legend at 0x2325d6eeb00>"
      ]
     },
     "execution_count": 36,
     "metadata": {},
     "output_type": "execute_result"
    },
    {
     "data": {
      "image/png": "[encoded data removed]",
      "text/plain": [
       "<Figure size 432x288 with 1 Axes>"
      ]
     },
     "metadata": {
      "needs_background": "light"
     },
     "output_type": "display_data"
    }
   ],
   "source": [
    "plt.bar(jordan['Year'], jordan['Population']/1000000)\n",
    "plt.xticks([2015, 2016, 2017, 2018])\n",
    "plt.bar(jordan['Year'], jordan['individuals']/1000000, label=\"Refugees\")\n",
    "plt.ylabel('Jordan population in millions')\n",
    "plt.legend()"
   ]
  }
 ],
 "metadata": {
  "kernelspec": {
   "display_name": "Python 3",
   "language": "python",
   "name": "python3"
  },
  "language_info": {
   "codemirror_mode": {
    "name": "ipython",
    "version": 3
   },
   "file_extension": ".py",
   "mimetype": "text/x-python",
   "name": "python",
   "nbconvert_exporter": "python",
   "pygments_lexer": "ipython3",
   "version": "3.7.0"
  }
 },
 "nbformat": 4,
 "nbformat_minor": 2
}
